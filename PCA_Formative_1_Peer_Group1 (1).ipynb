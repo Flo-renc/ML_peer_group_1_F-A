{
  "cells": [
    {
      "cell_type": "markdown",
      "metadata": {
        "id": "JqkivgEHr_KW"
      },
      "source": [
        "# Formative Assignment: Advanced Linear Algebra (PCA)\n",
        "This notebook will guide you through the implementation of Principal Component Analysis (PCA). Fill in the missing code and provide the required answers in the appropriate sections. You will work with a dataset that is Africanized .\n",
        "\n",
        "Make sure to display outputs for each code cell when submitting."
      ]
    },
    {
      "cell_type": "code",
      "execution_count": 6,
      "metadata": {
        "colab": {
          "base_uri": "https://localhost:8080/"
        },
        "id": "5hLM0kJRuxCn",
        "outputId": "7fd83f92-7b57-48d8-d33e-2031f7f2375f"
      },
      "outputs": [
        {
          "ename": "ModuleNotFoundError",
          "evalue": "No module named 'google'",
          "output_type": "error",
          "traceback": [
            "\u001b[31m---------------------------------------------------------------------------\u001b[39m",
            "\u001b[31mModuleNotFoundError\u001b[39m                       Traceback (most recent call last)",
            "\u001b[36mCell\u001b[39m\u001b[36m \u001b[39m\u001b[32mIn[6]\u001b[39m\u001b[32m, line 1\u001b[39m\n\u001b[32m----> \u001b[39m\u001b[32m1\u001b[39m \u001b[38;5;28;01mfrom\u001b[39;00m\u001b[38;5;250m \u001b[39m\u001b[34;01mgoogle\u001b[39;00m\u001b[34;01m.\u001b[39;00m\u001b[34;01mcolab\u001b[39;00m\u001b[38;5;250m \u001b[39m\u001b[38;5;28;01mimport\u001b[39;00m drive\n\u001b[32m      2\u001b[39m drive.mount(\u001b[33m'\u001b[39m\u001b[33m/content/drive\u001b[39m\u001b[33m'\u001b[39m)\n",
            "\u001b[31mModuleNotFoundError\u001b[39m: No module named 'google'"
          ]
        }
      ],
      "source": [
        "from google.colab import drive\n",
        "drive.mount('/content/drive')"
      ]
    },
    {
      "cell_type": "markdown",
      "metadata": {
        "id": "xycIp758r_Kb"
      },
      "source": [
        "### Step 1: Load and Standardize the Data\n",
        "Before applying PCA, we must standardize the dataset. Standardization ensures that all features have a mean of 0 and a standard deviation of 1, which is essential for PCA.\n",
        "Fill in the code to standardize the dataset.\n",
        "\n",
        "STRICTLY - Write code that implements standardization based on the image below\n",
        "\n",
        "<img src='data:image/jpeg;base64,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'/>\n"
      ]
    },
    {
      "cell_type": "code",
      "execution_count": null,
      "metadata": {
        "colab": {
          "base_uri": "https://localhost:8080/",
          "height": 73
        },
        "collapsed": true,
        "id": "98SO0LoU-ftR",
        "outputId": "fc3f80fa-3544-4d32-f830-ef873d644c58"
      },
      "outputs": [
        {
          "ename": "",
          "evalue": "",
          "output_type": "error",
          "traceback": [
            "\u001b[1;31mRunning cells with 'Python 3.12.3' requires the ipykernel package.\n",
            "\u001b[1;31m<a href='command:jupyter.createPythonEnvAndSelectController'>Create a Python Environment</a> with the required packages.\n",
            "\u001b[1;31mOr install 'ipykernel' using the command: '/bin/python3 -m pip install ipykernel -U --user --force-reinstall'"
          ]
        }
      ],
      "source": [
        "from google.colab import files\n",
        "uploaded = files.upload()"
      ]
    },
    {
      "cell_type": "code",
      "execution_count": null,
      "metadata": {
        "colab": {
          "base_uri": "https://localhost:8080/"
        },
        "id": "BKihXBaBr_Kc",
        "outputId": "e98f1954-5ea1-4b51-e034-3f88fa6171c8"
      },
      "outputs": [
        {
          "name": "stdout",
          "output_type": "stream",
          "text": [
            "Collecting numpy\n",
            "  Downloading numpy-2.3.0-cp312-cp312-manylinux_2_28_x86_64.whl.metadata (62 kB)\n",
            "Downloading numpy-2.3.0-cp312-cp312-manylinux_2_28_x86_64.whl (16.6 MB)\n",
            "\u001b[2K   \u001b[38;2;114;156;31m━━━━━━━━━━━━━━━━━━━━━━━━━━━━━━━━━━━━━━━━\u001b[0m \u001b[32m16.6/16.6 MB\u001b[0m \u001b[31m1.1 MB/s\u001b[0m eta \u001b[36m0:00:00\u001b[0mm eta \u001b[36m0:00:01\u001b[0m0:01\u001b[0m:01\u001b[0mm\n",
            "\u001b[?25hInstalling collected packages: numpy\n",
            "Successfully installed numpy-2.3.0\n",
            "Note: you may need to restart the kernel to use updated packages.\n",
            "this part was done by Florence\n"
          ]
        },
        {
          "data": {
            "text/plain": [
              "array([[32.22309997, 31.66973792, 31.58559192, 27.34530755, 26.49689493,\n",
              "        27.81893634, 28.45523244, 31.74783601, 29.46500642, 28.44889326,\n",
              "        28.4636117 ],\n",
              "       [29.30809313, 22.88843646, 19.7788362 , 18.91984925, 17.23602013,\n",
              "        16.32676481, 15.36964688, 13.89701489, 14.59015822, 16.09861324,\n",
              "        13.1760123 ],\n",
              "       [25.6485186 , 30.41743041, 33.45968013, 35.97913165, 32.15691736,\n",
              "        31.30507832, 32.9443683 , 29.45899171, 26.13402107, 21.46571524,\n",
              "        19.87200314],\n",
              "       [24.51463447, 21.2725558 , 20.16971745, 17.34909164, 16.34119753,\n",
              "        16.19479729, 14.24054467, 16.48346306, 15.21904825, 12.02869602,\n",
              "        11.33057269],\n",
              "       [24.47083637, 22.55516107, 17.35858514, 14.0259242 , 13.72680622,\n",
              "        13.95684809, 14.00054227, 17.07867079, 16.91918318, 15.24463326,\n",
              "        16.49891866]])"
            ]
          },
          "execution_count": 2,
          "metadata": {},
          "output_type": "execute_result"
        }
      ],
      "source": [
        "# Step 1: Load and Standardize the data (use of numpy only allowed)\n",
        "%pip install numpy\n",
        "import numpy as np\n",
        "\n",
        "data = np.loadtxt(\"CleandeSouthAfricaCrimeStats_v2.csv\", delimiter=\",\", skiprows=1)\n",
        "\n",
        "data_mean = np.mean(data, axis=0)\n",
        "data_std = np.std(data, axis=0)\n",
        "\n",
        "\n",
        "# Standardize the data\n",
        "standardized_data = np.empty_like(data)\n",
        "\n",
        "for i in range(data.shape[0]):\n",
        "  for j in range(data.shape[1]):\n",
        "    standardized_data[i, j] = (data[i, j] - data_mean[j]) / data_std[j]\n",
        "print('this part was done by Florence')\n",
        "\n",
        "# Do not use sklearn (Data - Data Mean)/ Data's Standard Deviation\n",
        "standardized_data[:5]  # Display the first few rows of standardized data\n"
      ]
    },
    {
      "cell_type": "markdown",
      "metadata": {
        "id": "Fybn40Syr_Kd"
      },
      "source": [
        "### Step 3: Calculate the Covariance Matrix\n",
        "The covariance matrix helps us understand how the features are related to each other. It is a key component in PCA."
      ]
    },
    {
      "cell_type": "code",
      "execution_count": null,
      "metadata": {
        "colab": {
          "base_uri": "https://localhost:8080/"
        },
        "id": "RbklA9tqr_Ke",
        "outputId": "47938b1b-6a94-496a-8079-bc2816cbe082"
      },
      "outputs": [
        {
          "name": "stdout",
          "output_type": "stream",
          "text": [
            "[[1.0000324  0.98200741 0.96005894 0.93906058 0.92468557 0.90870068\n",
            "  0.88919158 0.86392551 0.84345061 0.82984789 0.82684972]\n",
            " [0.98200741 1.0000324  0.98005218 0.95792889 0.94132862 0.92299453\n",
            "  0.90401809 0.8803923  0.85869104 0.84410422 0.84249859]\n",
            " [0.96005894 0.98005218 1.0000324  0.9812518  0.9642719  0.9441411\n",
            "  0.92377956 0.89941832 0.87385883 0.85758871 0.85454916]\n",
            " [0.93906058 0.95792889 0.9812518  1.0000324  0.98071022 0.95791318\n",
            "  0.93376457 0.90947717 0.88129936 0.8623199  0.85768664]\n",
            " [0.92468557 0.94132862 0.9642719  0.98071022 1.0000324  0.97969357\n",
            "  0.95374728 0.93185396 0.90227597 0.8832938  0.88011505]\n",
            " [0.90870068 0.92299453 0.9441411  0.95791318 0.97969357 1.0000324\n",
            "  0.97390722 0.9503503  0.92122271 0.90206802 0.89915412]\n",
            " [0.88919158 0.90401809 0.92377956 0.93376457 0.95374728 0.97390722\n",
            "  1.0000324  0.97571397 0.94661573 0.92868095 0.92306127]\n",
            " [0.86392551 0.8803923  0.89941832 0.90947717 0.93185396 0.9503503\n",
            "  0.97571397 1.0000324  0.97070271 0.95086072 0.94352652]\n",
            " [0.84345061 0.85869104 0.87385883 0.88129936 0.90227597 0.92122271\n",
            "  0.94661573 0.97070271 1.0000324  0.98039216 0.96449412]\n",
            " [0.82984789 0.84410422 0.85758871 0.8623199  0.8832938  0.90206802\n",
            "  0.92868095 0.95086072 0.98039216 1.0000324  0.98168172]\n",
            " [0.82684972 0.84249859 0.85454916 0.85768664 0.88011505 0.89915412\n",
            "  0.92306127 0.94352652 0.96449412 0.98168172 1.0000324 ]]\n",
            "This part was done by Florence\n"
          ]
        }
      ],
      "source": [
        "# Step 3: Calculate the Covariance Matrix\n",
        "X = standardized_data\n",
        "X_T = X.T\n",
        "\n",
        "n_samples = X.shape[0]\n",
        "covariance_matrix = np.dot(X_T, X) / (n_samples - 1)\n",
        "print(covariance_matrix)\n",
        "\n",
        "cov_matrix = None  # Calculate covariance matrix\n",
        "cov_matrix\n",
        "print('This part was done by Florence')"
      ]
    },
    {
      "cell_type": "markdown",
      "metadata": {
        "id": "dWzqXsR0r_Ke"
      },
      "source": [
        "### Step 4: Perform Eigendecomposition\n",
        "Eigendecomposition of the covariance matrix will give us the eigenvalues and eigenvectors, which are essential for PCA.\n",
        "Fill in the code to compute the eigenvalues and eigenvectors of the covariance matrix."
      ]
    },
    {
      "cell_type": "code",
      "execution_count": null,
      "metadata": {
        "id": "8Tm0rzdAr_Ke"
      },
      "outputs": [],
      "source": [
        "# Step 4: Perform Eigendecomposition\n",
        "\n"
      ]
    },
    {
      "cell_type": "markdown",
      "metadata": {
        "id": "bp6o_4sTr_Kf"
      },
      "source": [
        "### Step 5: Sort Principal Components\n",
        "Sort the eigenvectors based on their corresponding eigenvalues in descending order. The higher the eigenvalue, the more important the eigenvector.\n",
        "Complete the code to sort the eigenvectors and print the sorted components.\n",
        "\n",
        "<a url ='https://www.youtube.com/watch?v=vaF-1xUEXsA&t=17s'>How Is Explained Variance Used In PCA?'<a/>"
      ]
    },
    {
      "cell_type": "code",
      "execution_count": null,
      "metadata": {
        "id": "jpfoRz-Xr_Kf"
      },
      "outputs": [],
      "source": [
        "# Step 5: Sort Principal Components\n",
        "sorted_indices = None  # Sort eigenvalues in descending order\n",
        "sorted_eigenvectors = None  # Sort eigenvectors accordingly\n",
        "sorted_eigenvectors"
      ]
    },
    {
      "cell_type": "markdown",
      "metadata": {
        "id": "uxbmuO27r_Kg"
      },
      "source": [
        "### Step 6: Project Data onto Principal Components\n",
        "Now that we’ve selected the number of components, we will project the original data onto the chosen principal components.\n",
        "Fill in the code to perform the projection."
      ]
    },
    {
      "cell_type": "code",
      "execution_count": 7,
      "metadata": {
        "id": "ubjIMAtWr_Kg"
      },
      "outputs": [
        {
          "ename": "NameError",
          "evalue": "name 'sorted_eigenvectors' is not defined",
          "output_type": "error",
          "traceback": [
            "\u001b[31m---------------------------------------------------------------------------\u001b[39m",
            "\u001b[31mNameError\u001b[39m                                 Traceback (most recent call last)",
            "\u001b[36mCell\u001b[39m\u001b[36m \u001b[39m\u001b[32mIn[7]\u001b[39m\u001b[32m, line 3\u001b[39m\n\u001b[32m      1\u001b[39m \u001b[38;5;66;03m# Step 6: Project Data onto Principal Components\u001b[39;00m\n\u001b[32m      2\u001b[39m num_components = \u001b[32m2\u001b[39m  \u001b[38;5;66;03m# Keeping top 2 principal components \u001b[39;00m\n\u001b[32m----> \u001b[39m\u001b[32m3\u001b[39m reduced_data = np.dot(standardized_data, \u001b[43msorted_eigenvectors\u001b[49m[:, :num_components])\n\u001b[32m      5\u001b[39m \u001b[38;5;28mprint\u001b[39m(reduced_data[:\u001b[32m5\u001b[39m])\n\u001b[32m      6\u001b[39m \u001b[38;5;28mprint\u001b[39m(\u001b[33m\"\u001b[39m\u001b[33mThis part was done by Tracy\u001b[39m\u001b[33m\"\u001b[39m)\n",
            "\u001b[31mNameError\u001b[39m: name 'sorted_eigenvectors' is not defined"
          ]
        }
      ],
      "source": [
        "# Step 6: Project Data onto Principal Components\n",
        "num_components = 2  # Keeping top 2 principal components \n",
        "reduced_data = np.dot(standardized_data, sorted_eigenvectors[:, :num_components])\n",
        "\n",
        "print(reduced_data[:5])\n",
        "print(\"This part was done by Tracy\")"
      ]
    },
    {
      "cell_type": "markdown",
      "metadata": {
        "id": "XVq-b6vtr_Kg"
      },
      "source": [
        "### Step 7: Output the Reduced Data\n",
        "Finally, display the reduced data obtained by projecting the original dataset onto the selected principal components."
      ]
    },
    {
      "cell_type": "code",
      "execution_count": 2,
      "metadata": {
        "colab": {
          "base_uri": "https://localhost:8080/",
          "height": 176
        },
        "id": "5D0uzRyPr_Kg",
        "outputId": "fbbe8141-e1cc-4a50-e523-61bb6103ff3c"
      },
      "outputs": [
        {
          "ename": "NameError",
          "evalue": "name 'reduced_data' is not defined",
          "output_type": "error",
          "traceback": [
            "\u001b[31m---------------------------------------------------------------------------\u001b[39m",
            "\u001b[31mNameError\u001b[39m                                 Traceback (most recent call last)",
            "\u001b[36mCell\u001b[39m\u001b[36m \u001b[39m\u001b[32mIn[2]\u001b[39m\u001b[32m, line 2\u001b[39m\n\u001b[32m      1\u001b[39m \u001b[38;5;66;03m# Step 7: Output the Reduced Data\u001b[39;00m\n\u001b[32m----> \u001b[39m\u001b[32m2\u001b[39m \u001b[38;5;28mprint\u001b[39m(\u001b[33mf\u001b[39m\u001b[33m'\u001b[39m\u001b[33mReduced Data Shape: \u001b[39m\u001b[38;5;132;01m{\u001b[39;00m\u001b[43mreduced_data\u001b[49m.shape\u001b[38;5;132;01m}\u001b[39;00m\u001b[33m'\u001b[39m)  \u001b[38;5;66;03m# Display reduced data shape\u001b[39;00m\n\u001b[32m      3\u001b[39m \u001b[38;5;28mprint\u001b[39m(\u001b[33m\"\u001b[39m\u001b[33mFirst 5 rows of reduced data:\u001b[39m\u001b[33m\"\u001b[39m)\n\u001b[32m      4\u001b[39m \u001b[38;5;28mprint\u001b[39m(reduced_data[:\u001b[32m5\u001b[39m])  \u001b[38;5;66;03m# Display the first few rows of reduced data\u001b[39;00m\n",
            "\u001b[31mNameError\u001b[39m: name 'reduced_data' is not defined"
          ]
        }
      ],
      "source": [
        "# Step 7: Output the Reduced Data\n",
        "print(f'Reduced Data Shape: {reduced_data.shape}')  # Display reduced data shape\n",
        "print(\"First 5 rows of reduced data:\")\n",
        "print(reduced_data[:5])  # Display the first few rows of reduced data\n",
        "print(\"This part was completed by Tracy\")"
      ]
    },
    {
      "cell_type": "markdown",
      "metadata": {
        "id": "S1f8ROm5r_Kg"
      },
      "source": [
        "### Step 8: Visualize Before and After PCA\n",
        "Now, let's plot the original data and the data after PCA to compare the reduction in dimensions visually."
      ]
    },
    {
      "cell_type": "code",
      "execution_count": 18,
      "metadata": {
        "id": "WwuppWV-r_Kg"
      },
      "outputs": [
        {
          "name": "stdout",
          "output_type": "stream",
          "text": [
            "Requirement already satisfied: matplotlib in ./.venv/lib/python3.12/site-packages (3.10.3)\n",
            "Requirement already satisfied: contourpy>=1.0.1 in ./.venv/lib/python3.12/site-packages (from matplotlib) (1.3.2)\n",
            "Requirement already satisfied: cycler>=0.10 in ./.venv/lib/python3.12/site-packages (from matplotlib) (0.12.1)\n",
            "Requirement already satisfied: fonttools>=4.22.0 in ./.venv/lib/python3.12/site-packages (from matplotlib) (4.58.2)\n",
            "Requirement already satisfied: kiwisolver>=1.3.1 in ./.venv/lib/python3.12/site-packages (from matplotlib) (1.4.8)\n",
            "Requirement already satisfied: numpy>=1.23 in ./.venv/lib/python3.12/site-packages (from matplotlib) (2.3.0)\n",
            "Requirement already satisfied: packaging>=20.0 in ./.venv/lib/python3.12/site-packages (from matplotlib) (25.0)\n",
            "Requirement already satisfied: pillow>=8 in ./.venv/lib/python3.12/site-packages (from matplotlib) (11.2.1)\n",
            "Requirement already satisfied: pyparsing>=2.3.1 in ./.venv/lib/python3.12/site-packages (from matplotlib) (3.2.3)\n",
            "Requirement already satisfied: python-dateutil>=2.7 in ./.venv/lib/python3.12/site-packages (from matplotlib) (2.9.0.post0)\n",
            "Requirement already satisfied: six>=1.5 in ./.venv/lib/python3.12/site-packages (from python-dateutil>=2.7->matplotlib) (1.17.0)\n",
            "Note: you may need to restart the kernel to use updated packages.\n"
          ]
        },
        {
          "ename": "NameError",
          "evalue": "name 'reduced_data' is not defined",
          "output_type": "error",
          "traceback": [
            "\u001b[31m---------------------------------------------------------------------------\u001b[39m",
            "\u001b[31mNameError\u001b[39m                                 Traceback (most recent call last)",
            "\u001b[36mCell\u001b[39m\u001b[36m \u001b[39m\u001b[32mIn[18]\u001b[39m\u001b[32m, line 16\u001b[39m\n\u001b[32m     14\u001b[39m \u001b[38;5;66;03m# Plot reduced data after PCA\u001b[39;00m\n\u001b[32m     15\u001b[39m plt.subplot(\u001b[32m1\u001b[39m, \u001b[32m2\u001b[39m, \u001b[32m2\u001b[39m)\n\u001b[32m---> \u001b[39m\u001b[32m16\u001b[39m plt.scatter(\u001b[43mreduced_data\u001b[49m[:, \u001b[32m0\u001b[39m], reduced_data[:, \u001b[32m1\u001b[39m], c=\u001b[33m'\u001b[39m\u001b[33mgreen\u001b[39m\u001b[33m'\u001b[39m, edgecolor=\u001b[33m'\u001b[39m\u001b[33mk\u001b[39m\u001b[33m'\u001b[39m, alpha=\u001b[32m0.7\u001b[39m)\n\u001b[32m     17\u001b[39m plt.title(\u001b[33m'\u001b[39m\u001b[33mPCA Reduced Data (First 2 Components)\u001b[39m\u001b[33m'\u001b[39m)\n\u001b[32m     18\u001b[39m plt.grid(\u001b[38;5;28;01mTrue\u001b[39;00m)\n",
            "\u001b[31mNameError\u001b[39m: name 'reduced_data' is not defined"
          ]
        },
        {
          "data": {
            "image/png": "[encoded data removed]",
            "text/plain": [
              "<Figure size 1200x500 with 2 Axes>"
            ]
          },
          "metadata": {},
          "output_type": "display_data"
        }
      ],
      "source": [
        "# Step 8: Visualize Before and After PCA\n",
        "\n",
        "%pip install matplotlib\n",
        "import matplotlib.pyplot as plt\n",
        "plt.figure(figsize=(12, 5))\n",
        "\n",
        "plt.subplot(1, 2, 1)\n",
        "# Plot original data (first two features for simplicity)\n",
        "\n",
        "plt.scatter(X[:, 0], X[:, 1], c='red', edgecolor='none', alpha=0.8)\n",
        "plt.title('Original Data (First 2 Features)')\n",
        "plt.grid(True)\n",
        "\n",
        "# Plot reduced data after PCA\n",
        "plt.subplot(1, 2, 2)\n",
        "plt.scatter(reduced_data[:, 0], reduced_data[:, 1], c='green', edgecolor='k', alpha=0.7)\n",
        "plt.title('PCA Reduced Data (First 2 Components)')\n",
        "plt.grid(True)\n",
        "\n",
        "plt.tight_layout()\n",
        "plt.show()\n",
        "\n",
        "\n",
        "\n",
        "\n"
      ]
    },
    {
      "cell_type": "code",
      "execution_count": null,
      "metadata": {
        "id": "oHM6zZtLFUNZ"
      },
      "outputs": [],
      "source": []
    }
  ],
  "metadata": {
    "colab": {
      "provenance": []
    },
    "kernelspec": {
      "display_name": ".venv",
      "language": "python",
      "name": "python3"
    },
    "language_info": {
      "codemirror_mode": {
        "name": "ipython",
        "version": 3
      },
      "file_extension": ".py",
      "mimetype": "text/x-python",
      "name": "python",
      "nbconvert_exporter": "python",
      "pygments_lexer": "ipython3",
      "version": "3.13.3"
    }
  },
  "nbformat": 4,
  "nbformat_minor": 0
}
